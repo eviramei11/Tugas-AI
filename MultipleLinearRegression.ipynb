{
  "nbformat": 4,
  "nbformat_minor": 0,
  "metadata": {
    "colab": {
      "provenance": [],
      "collapsed_sections": []
    },
    "kernelspec": {
      "name": "python3",
      "display_name": "Python 3"
    },
    "language_info": {
      "name": "python"
    }
  },
  "cells": [
    {
      "cell_type": "markdown",
      "source": [
        "**Tugas AI Pra UTS**"
      ],
      "metadata": {
        "id": "I7CWrUDS_tLz"
      }
    },
    {
      "cell_type": "markdown",
      "source": [
        "**Implementasi Multiple Linear Regression**"
      ],
      "metadata": {
        "id": "MvlJgrmN_vMU"
      }
    },
    {
      "cell_type": "markdown",
      "source": [
        "**Evira Meidwitami\n",
        "19/443572/TK/48768**"
      ],
      "metadata": {
        "id": "eBVJ76M-8NZ-"
      }
    },
    {
      "cell_type": "markdown",
      "source": [
        "**Import Library**"
      ],
      "metadata": {
        "id": "t4PeXvq79rRp"
      }
    },
    {
      "cell_type": "code",
      "execution_count": 2,
      "metadata": {
        "id": "XkcQHVI0ZyQ4"
      },
      "outputs": [],
      "source": [
        "import pandas as pd\n",
        "import numpy as np\n",
        "import matplotlib.pyplot as plt"
      ]
    },
    {
      "cell_type": "markdown",
      "source": [
        "**Upload File Dataset**"
      ],
      "metadata": {
        "id": "F2Qi_ryS9uKe"
      }
    },
    {
      "cell_type": "code",
      "source": [
        "from google.colab import files\n",
        "uploaded = files.upload()"
      ],
      "metadata": {
        "colab": {
          "base_uri": "https://localhost:8080/",
          "height": 75
        },
        "id": "fEn6Y-HUZ0uz",
        "outputId": "8f1f74ae-43e3-4cef-e129-2199b17c66a0"
      },
      "execution_count": 3,
      "outputs": [
        {
          "output_type": "display_data",
          "data": {
            "text/plain": [
              "<IPython.core.display.HTML object>"
            ],
            "text/html": [
              "\n",
              "     <input type=\"file\" id=\"files-5f1066c2-1d18-4c54-936d-c22a5cae019c\" name=\"files[]\" multiple disabled\n",
              "        style=\"border:none\" />\n",
              "     <output id=\"result-5f1066c2-1d18-4c54-936d-c22a5cae019c\">\n",
              "      Upload widget is only available when the cell has been executed in the\n",
              "      current browser session. Please rerun this cell to enable.\n",
              "      </output>\n",
              "      <script>// Copyright 2017 Google LLC\n",
              "//\n",
              "// Licensed under the Apache License, Version 2.0 (the \"License\");\n",
              "// you may not use this file except in compliance with the License.\n",
              "// You may obtain a copy of the License at\n",
              "//\n",
              "//      http://www.apache.org/licenses/LICENSE-2.0\n",
              "//\n",
              "// Unless required by applicable law or agreed to in writing, software\n",
              "// distributed under the License is distributed on an \"AS IS\" BASIS,\n",
              "// WITHOUT WARRANTIES OR CONDITIONS OF ANY KIND, either express or implied.\n",
              "// See the License for the specific language governing permissions and\n",
              "// limitations under the License.\n",
              "\n",
              "/**\n",
              " * @fileoverview Helpers for google.colab Python module.\n",
              " */\n",
              "(function(scope) {\n",
              "function span(text, styleAttributes = {}) {\n",
              "  const element = document.createElement('span');\n",
              "  element.textContent = text;\n",
              "  for (const key of Object.keys(styleAttributes)) {\n",
              "    element.style[key] = styleAttributes[key];\n",
              "  }\n",
              "  return element;\n",
              "}\n",
              "\n",
              "// Max number of bytes which will be uploaded at a time.\n",
              "const MAX_PAYLOAD_SIZE = 100 * 1024;\n",
              "\n",
              "function _uploadFiles(inputId, outputId) {\n",
              "  const steps = uploadFilesStep(inputId, outputId);\n",
              "  const outputElement = document.getElementById(outputId);\n",
              "  // Cache steps on the outputElement to make it available for the next call\n",
              "  // to uploadFilesContinue from Python.\n",
              "  outputElement.steps = steps;\n",
              "\n",
              "  return _uploadFilesContinue(outputId);\n",
              "}\n",
              "\n",
              "// This is roughly an async generator (not supported in the browser yet),\n",
              "// where there are multiple asynchronous steps and the Python side is going\n",
              "// to poll for completion of each step.\n",
              "// This uses a Promise to block the python side on completion of each step,\n",
              "// then passes the result of the previous step as the input to the next step.\n",
              "function _uploadFilesContinue(outputId) {\n",
              "  const outputElement = document.getElementById(outputId);\n",
              "  const steps = outputElement.steps;\n",
              "\n",
              "  const next = steps.next(outputElement.lastPromiseValue);\n",
              "  return Promise.resolve(next.value.promise).then((value) => {\n",
              "    // Cache the last promise value to make it available to the next\n",
              "    // step of the generator.\n",
              "    outputElement.lastPromiseValue = value;\n",
              "    return next.value.response;\n",
              "  });\n",
              "}\n",
              "\n",
              "/**\n",
              " * Generator function which is called between each async step of the upload\n",
              " * process.\n",
              " * @param {string} inputId Element ID of the input file picker element.\n",
              " * @param {string} outputId Element ID of the output display.\n",
              " * @return {!Iterable<!Object>} Iterable of next steps.\n",
              " */\n",
              "function* uploadFilesStep(inputId, outputId) {\n",
              "  const inputElement = document.getElementById(inputId);\n",
              "  inputElement.disabled = false;\n",
              "\n",
              "  const outputElement = document.getElementById(outputId);\n",
              "  outputElement.innerHTML = '';\n",
              "\n",
              "  const pickedPromise = new Promise((resolve) => {\n",
              "    inputElement.addEventListener('change', (e) => {\n",
              "      resolve(e.target.files);\n",
              "    });\n",
              "  });\n",
              "\n",
              "  const cancel = document.createElement('button');\n",
              "  inputElement.parentElement.appendChild(cancel);\n",
              "  cancel.textContent = 'Cancel upload';\n",
              "  const cancelPromise = new Promise((resolve) => {\n",
              "    cancel.onclick = () => {\n",
              "      resolve(null);\n",
              "    };\n",
              "  });\n",
              "\n",
              "  // Wait for the user to pick the files.\n",
              "  const files = yield {\n",
              "    promise: Promise.race([pickedPromise, cancelPromise]),\n",
              "    response: {\n",
              "      action: 'starting',\n",
              "    }\n",
              "  };\n",
              "\n",
              "  cancel.remove();\n",
              "\n",
              "  // Disable the input element since further picks are not allowed.\n",
              "  inputElement.disabled = true;\n",
              "\n",
              "  if (!files) {\n",
              "    return {\n",
              "      response: {\n",
              "        action: 'complete',\n",
              "      }\n",
              "    };\n",
              "  }\n",
              "\n",
              "  for (const file of files) {\n",
              "    const li = document.createElement('li');\n",
              "    li.append(span(file.name, {fontWeight: 'bold'}));\n",
              "    li.append(span(\n",
              "        `(${file.type || 'n/a'}) - ${file.size} bytes, ` +\n",
              "        `last modified: ${\n",
              "            file.lastModifiedDate ? file.lastModifiedDate.toLocaleDateString() :\n",
              "                                    'n/a'} - `));\n",
              "    const percent = span('0% done');\n",
              "    li.appendChild(percent);\n",
              "\n",
              "    outputElement.appendChild(li);\n",
              "\n",
              "    const fileDataPromise = new Promise((resolve) => {\n",
              "      const reader = new FileReader();\n",
              "      reader.onload = (e) => {\n",
              "        resolve(e.target.result);\n",
              "      };\n",
              "      reader.readAsArrayBuffer(file);\n",
              "    });\n",
              "    // Wait for the data to be ready.\n",
              "    let fileData = yield {\n",
              "      promise: fileDataPromise,\n",
              "      response: {\n",
              "        action: 'continue',\n",
              "      }\n",
              "    };\n",
              "\n",
              "    // Use a chunked sending to avoid message size limits. See b/62115660.\n",
              "    let position = 0;\n",
              "    do {\n",
              "      const length = Math.min(fileData.byteLength - position, MAX_PAYLOAD_SIZE);\n",
              "      const chunk = new Uint8Array(fileData, position, length);\n",
              "      position += length;\n",
              "\n",
              "      const base64 = btoa(String.fromCharCode.apply(null, chunk));\n",
              "      yield {\n",
              "        response: {\n",
              "          action: 'append',\n",
              "          file: file.name,\n",
              "          data: base64,\n",
              "        },\n",
              "      };\n",
              "\n",
              "      let percentDone = fileData.byteLength === 0 ?\n",
              "          100 :\n",
              "          Math.round((position / fileData.byteLength) * 100);\n",
              "      percent.textContent = `${percentDone}% done`;\n",
              "\n",
              "    } while (position < fileData.byteLength);\n",
              "  }\n",
              "\n",
              "  // All done.\n",
              "  yield {\n",
              "    response: {\n",
              "      action: 'complete',\n",
              "    }\n",
              "  };\n",
              "}\n",
              "\n",
              "scope.google = scope.google || {};\n",
              "scope.google.colab = scope.google.colab || {};\n",
              "scope.google.colab._files = {\n",
              "  _uploadFiles,\n",
              "  _uploadFilesContinue,\n",
              "};\n",
              "})(self);\n",
              "</script> "
            ]
          },
          "metadata": {}
        },
        {
          "output_type": "stream",
          "name": "stdout",
          "text": [
            "Saving BIKE DETAILS.csv to BIKE DETAILS.csv\n"
          ]
        }
      ]
    },
    {
      "cell_type": "markdown",
      "source": [
        "**Membaca dan Menampilkan Data**"
      ],
      "metadata": {
        "id": "jwjJTY4G9yQr"
      }
    },
    {
      "cell_type": "code",
      "source": [
        "data=pd.read_csv('BIKE DETAILS.csv',index_col=0)\n",
        "data.dropna()"
      ],
      "metadata": {
        "colab": {
          "base_uri": "https://localhost:8080/",
          "height": 455
        },
        "id": "URJYjaEqZ2Ub",
        "outputId": "b5876468-73fc-4203-d0a8-82ef2b11f8eb"
      },
      "execution_count": 4,
      "outputs": [
        {
          "output_type": "execute_result",
          "data": {
            "text/plain": [
              "                                     selling_price  year seller_type  \\\n",
              "name                                                                   \n",
              "Royal Enfield Classic Gunmetal Grey         150000  2018  Individual   \n",
              "Yamaha Fazer FI V 2.0 [2016-2018]            65000  2015  Individual   \n",
              "Honda CB Twister                             18000  2010  Individual   \n",
              "Honda CB Hornet 160R                         78500  2018  Individual   \n",
              "Bajaj Discover 125                           50000  2016  Individual   \n",
              "...                                            ...   ...         ...   \n",
              "Activa 3g                                    17000  2010  Individual   \n",
              "Honda CB twister                             16000  2012  Individual   \n",
              "Bajaj Discover 125                           15000  2013  Individual   \n",
              "Honda CB Shine                               12000  2009  Individual   \n",
              "Bajaj Pulsar 150                             10000  2008  Individual   \n",
              "\n",
              "                                         owner  km_driven  ex_showroom_price  \n",
              "name                                                                          \n",
              "Royal Enfield Classic Gunmetal Grey  1st owner      12000           148114.0  \n",
              "Yamaha Fazer FI V 2.0 [2016-2018]    1st owner      23000            89643.0  \n",
              "Honda CB Twister                     1st owner      60000            53857.0  \n",
              "Honda CB Hornet 160R                 1st owner      17000            87719.0  \n",
              "Bajaj Discover 125                   1st owner      42000            60122.0  \n",
              "...                                        ...        ...                ...  \n",
              "Activa 3g                            1st owner     500000            52000.0  \n",
              "Honda CB twister                     1st owner      33000            51000.0  \n",
              "Bajaj Discover 125                   2nd owner      35000            57000.0  \n",
              "Honda CB Shine                       1st owner      53000            58000.0  \n",
              "Bajaj Pulsar 150                     1st owner      92233            75000.0  \n",
              "\n",
              "[626 rows x 6 columns]"
            ],
            "text/html": [
              "\n",
              "  <div id=\"df-e585fff4-4ef8-41a3-826e-b5e8451aa6ff\">\n",
              "    <div class=\"colab-df-container\">\n",
              "      <div>\n",
              "<style scoped>\n",
              "    .dataframe tbody tr th:only-of-type {\n",
              "        vertical-align: middle;\n",
              "    }\n",
              "\n",
              "    .dataframe tbody tr th {\n",
              "        vertical-align: top;\n",
              "    }\n",
              "\n",
              "    .dataframe thead th {\n",
              "        text-align: right;\n",
              "    }\n",
              "</style>\n",
              "<table border=\"1\" class=\"dataframe\">\n",
              "  <thead>\n",
              "    <tr style=\"text-align: right;\">\n",
              "      <th></th>\n",
              "      <th>selling_price</th>\n",
              "      <th>year</th>\n",
              "      <th>seller_type</th>\n",
              "      <th>owner</th>\n",
              "      <th>km_driven</th>\n",
              "      <th>ex_showroom_price</th>\n",
              "    </tr>\n",
              "    <tr>\n",
              "      <th>name</th>\n",
              "      <th></th>\n",
              "      <th></th>\n",
              "      <th></th>\n",
              "      <th></th>\n",
              "      <th></th>\n",
              "      <th></th>\n",
              "    </tr>\n",
              "  </thead>\n",
              "  <tbody>\n",
              "    <tr>\n",
              "      <th>Royal Enfield Classic Gunmetal Grey</th>\n",
              "      <td>150000</td>\n",
              "      <td>2018</td>\n",
              "      <td>Individual</td>\n",
              "      <td>1st owner</td>\n",
              "      <td>12000</td>\n",
              "      <td>148114.0</td>\n",
              "    </tr>\n",
              "    <tr>\n",
              "      <th>Yamaha Fazer FI V 2.0 [2016-2018]</th>\n",
              "      <td>65000</td>\n",
              "      <td>2015</td>\n",
              "      <td>Individual</td>\n",
              "      <td>1st owner</td>\n",
              "      <td>23000</td>\n",
              "      <td>89643.0</td>\n",
              "    </tr>\n",
              "    <tr>\n",
              "      <th>Honda CB Twister</th>\n",
              "      <td>18000</td>\n",
              "      <td>2010</td>\n",
              "      <td>Individual</td>\n",
              "      <td>1st owner</td>\n",
              "      <td>60000</td>\n",
              "      <td>53857.0</td>\n",
              "    </tr>\n",
              "    <tr>\n",
              "      <th>Honda CB Hornet 160R</th>\n",
              "      <td>78500</td>\n",
              "      <td>2018</td>\n",
              "      <td>Individual</td>\n",
              "      <td>1st owner</td>\n",
              "      <td>17000</td>\n",
              "      <td>87719.0</td>\n",
              "    </tr>\n",
              "    <tr>\n",
              "      <th>Bajaj Discover 125</th>\n",
              "      <td>50000</td>\n",
              "      <td>2016</td>\n",
              "      <td>Individual</td>\n",
              "      <td>1st owner</td>\n",
              "      <td>42000</td>\n",
              "      <td>60122.0</td>\n",
              "    </tr>\n",
              "    <tr>\n",
              "      <th>...</th>\n",
              "      <td>...</td>\n",
              "      <td>...</td>\n",
              "      <td>...</td>\n",
              "      <td>...</td>\n",
              "      <td>...</td>\n",
              "      <td>...</td>\n",
              "    </tr>\n",
              "    <tr>\n",
              "      <th>Activa 3g</th>\n",
              "      <td>17000</td>\n",
              "      <td>2010</td>\n",
              "      <td>Individual</td>\n",
              "      <td>1st owner</td>\n",
              "      <td>500000</td>\n",
              "      <td>52000.0</td>\n",
              "    </tr>\n",
              "    <tr>\n",
              "      <th>Honda CB twister</th>\n",
              "      <td>16000</td>\n",
              "      <td>2012</td>\n",
              "      <td>Individual</td>\n",
              "      <td>1st owner</td>\n",
              "      <td>33000</td>\n",
              "      <td>51000.0</td>\n",
              "    </tr>\n",
              "    <tr>\n",
              "      <th>Bajaj Discover 125</th>\n",
              "      <td>15000</td>\n",
              "      <td>2013</td>\n",
              "      <td>Individual</td>\n",
              "      <td>2nd owner</td>\n",
              "      <td>35000</td>\n",
              "      <td>57000.0</td>\n",
              "    </tr>\n",
              "    <tr>\n",
              "      <th>Honda CB Shine</th>\n",
              "      <td>12000</td>\n",
              "      <td>2009</td>\n",
              "      <td>Individual</td>\n",
              "      <td>1st owner</td>\n",
              "      <td>53000</td>\n",
              "      <td>58000.0</td>\n",
              "    </tr>\n",
              "    <tr>\n",
              "      <th>Bajaj Pulsar 150</th>\n",
              "      <td>10000</td>\n",
              "      <td>2008</td>\n",
              "      <td>Individual</td>\n",
              "      <td>1st owner</td>\n",
              "      <td>92233</td>\n",
              "      <td>75000.0</td>\n",
              "    </tr>\n",
              "  </tbody>\n",
              "</table>\n",
              "<p>626 rows × 6 columns</p>\n",
              "</div>\n",
              "      <button class=\"colab-df-convert\" onclick=\"convertToInteractive('df-e585fff4-4ef8-41a3-826e-b5e8451aa6ff')\"\n",
              "              title=\"Convert this dataframe to an interactive table.\"\n",
              "              style=\"display:none;\">\n",
              "        \n",
              "  <svg xmlns=\"http://www.w3.org/2000/svg\" height=\"24px\"viewBox=\"0 0 24 24\"\n",
              "       width=\"24px\">\n",
              "    <path d=\"M0 0h24v24H0V0z\" fill=\"none\"/>\n",
              "    <path d=\"M18.56 5.44l.94 2.06.94-2.06 2.06-.94-2.06-.94-.94-2.06-.94 2.06-2.06.94zm-11 1L8.5 8.5l.94-2.06 2.06-.94-2.06-.94L8.5 2.5l-.94 2.06-2.06.94zm10 10l.94 2.06.94-2.06 2.06-.94-2.06-.94-.94-2.06-.94 2.06-2.06.94z\"/><path d=\"M17.41 7.96l-1.37-1.37c-.4-.4-.92-.59-1.43-.59-.52 0-1.04.2-1.43.59L10.3 9.45l-7.72 7.72c-.78.78-.78 2.05 0 2.83L4 21.41c.39.39.9.59 1.41.59.51 0 1.02-.2 1.41-.59l7.78-7.78 2.81-2.81c.8-.78.8-2.07 0-2.86zM5.41 20L4 18.59l7.72-7.72 1.47 1.35L5.41 20z\"/>\n",
              "  </svg>\n",
              "      </button>\n",
              "      \n",
              "  <style>\n",
              "    .colab-df-container {\n",
              "      display:flex;\n",
              "      flex-wrap:wrap;\n",
              "      gap: 12px;\n",
              "    }\n",
              "\n",
              "    .colab-df-convert {\n",
              "      background-color: #E8F0FE;\n",
              "      border: none;\n",
              "      border-radius: 50%;\n",
              "      cursor: pointer;\n",
              "      display: none;\n",
              "      fill: #1967D2;\n",
              "      height: 32px;\n",
              "      padding: 0 0 0 0;\n",
              "      width: 32px;\n",
              "    }\n",
              "\n",
              "    .colab-df-convert:hover {\n",
              "      background-color: #E2EBFA;\n",
              "      box-shadow: 0px 1px 2px rgba(60, 64, 67, 0.3), 0px 1px 3px 1px rgba(60, 64, 67, 0.15);\n",
              "      fill: #174EA6;\n",
              "    }\n",
              "\n",
              "    [theme=dark] .colab-df-convert {\n",
              "      background-color: #3B4455;\n",
              "      fill: #D2E3FC;\n",
              "    }\n",
              "\n",
              "    [theme=dark] .colab-df-convert:hover {\n",
              "      background-color: #434B5C;\n",
              "      box-shadow: 0px 1px 3px 1px rgba(0, 0, 0, 0.15);\n",
              "      filter: drop-shadow(0px 1px 2px rgba(0, 0, 0, 0.3));\n",
              "      fill: #FFFFFF;\n",
              "    }\n",
              "  </style>\n",
              "\n",
              "      <script>\n",
              "        const buttonEl =\n",
              "          document.querySelector('#df-e585fff4-4ef8-41a3-826e-b5e8451aa6ff button.colab-df-convert');\n",
              "        buttonEl.style.display =\n",
              "          google.colab.kernel.accessAllowed ? 'block' : 'none';\n",
              "\n",
              "        async function convertToInteractive(key) {\n",
              "          const element = document.querySelector('#df-e585fff4-4ef8-41a3-826e-b5e8451aa6ff');\n",
              "          const dataTable =\n",
              "            await google.colab.kernel.invokeFunction('convertToInteractive',\n",
              "                                                     [key], {});\n",
              "          if (!dataTable) return;\n",
              "\n",
              "          const docLinkHtml = 'Like what you see? Visit the ' +\n",
              "            '<a target=\"_blank\" href=https://colab.research.google.com/notebooks/data_table.ipynb>data table notebook</a>'\n",
              "            + ' to learn more about interactive tables.';\n",
              "          element.innerHTML = '';\n",
              "          dataTable['output_type'] = 'display_data';\n",
              "          await google.colab.output.renderOutput(dataTable, element);\n",
              "          const docLink = document.createElement('div');\n",
              "          docLink.innerHTML = docLinkHtml;\n",
              "          element.appendChild(docLink);\n",
              "        }\n",
              "      </script>\n",
              "    </div>\n",
              "  </div>\n",
              "  "
            ]
          },
          "metadata": {},
          "execution_count": 4
        }
      ]
    },
    {
      "cell_type": "markdown",
      "source": [
        "**Pengaruh Ex Showroom Price Terhadap Selling Price**"
      ],
      "metadata": {
        "id": "wJTm-kQD9-vj"
      }
    },
    {
      "cell_type": "code",
      "source": [
        "plt.scatter(data['ex_showroom_price'], data['selling_price'])\n",
        "plt.xlabel('Ex Showroom Price')\n",
        "plt.ylabel('Selling Price')\n",
        "plt.show()"
      ],
      "metadata": {
        "colab": {
          "base_uri": "https://localhost:8080/",
          "height": 279
        },
        "id": "vHcGy4RhHm97",
        "outputId": "a0a5e819-0975-441a-c0c2-5d16441a2eb8"
      },
      "execution_count": 8,
      "outputs": [
        {
          "output_type": "display_data",
          "data": {
            "text/plain": [
              "<Figure size 432x288 with 1 Axes>"
            ],
            "image/png": "[encoded data removed]"
          },
          "metadata": {
            "needs_background": "light"
          }
        }
      ]
    },
    {
      "cell_type": "markdown",
      "source": [
        "**Pengaruh Year Terhadap Selling Price**"
      ],
      "metadata": {
        "id": "JSAW0JKd-BD2"
      }
    },
    {
      "cell_type": "code",
      "source": [
        "plt.scatter(data['year'], data['selling_price'])\n",
        "plt.xlabel('Year')\n",
        "plt.ylabel('Selling Price')\n",
        "plt.show()"
      ],
      "metadata": {
        "colab": {
          "base_uri": "https://localhost:8080/",
          "height": 279
        },
        "id": "2Ozn4eGGys15",
        "outputId": "992df7ac-c417-46b4-d4af-98f1cb86cb84"
      },
      "execution_count": 22,
      "outputs": [
        {
          "output_type": "display_data",
          "data": {
            "text/plain": [
              "<Figure size 432x288 with 1 Axes>"
            ],
            "image/png": "[encoded data removed]"
          },
          "metadata": {
            "needs_background": "light"
          }
        }
      ]
    },
    {
      "cell_type": "markdown",
      "source": [
        "**Pengaruh Km Driven Terhadap Selling Price**"
      ],
      "metadata": {
        "id": "Gkny3P-9-Er_"
      }
    },
    {
      "cell_type": "code",
      "source": [
        "plt.scatter(data['km_driven'], data['selling_price'])\n",
        "plt.xlabel('Km Driven')\n",
        "plt.ylabel('Selling Price')\n",
        "plt.show()"
      ],
      "metadata": {
        "colab": {
          "base_uri": "https://localhost:8080/",
          "height": 279
        },
        "id": "VVQkW0bTspR1",
        "outputId": "ee4b9091-0394-467b-b2d2-5e301a47e2b2"
      },
      "execution_count": 9,
      "outputs": [
        {
          "output_type": "display_data",
          "data": {
            "text/plain": [
              "<Figure size 432x288 with 1 Axes>"
            ],
            "image/png": "[encoded data removed]"
          },
          "metadata": {
            "needs_background": "light"
          }
        }
      ]
    },
    {
      "cell_type": "markdown",
      "source": [
        "**Implementasi Multiple Linear Regression**"
      ],
      "metadata": {
        "id": "0PwEEKn4-TC0"
      }
    },
    {
      "cell_type": "markdown",
      "source": [
        "Deklarasi variabel Matrix"
      ],
      "metadata": {
        "id": "3j4_JDWwATmy"
      }
    },
    {
      "cell_type": "code",
      "source": [
        "data_np=data.to_numpy()\n",
        "data_np.shape"
      ],
      "metadata": {
        "colab": {
          "base_uri": "https://localhost:8080/"
        },
        "id": "FU1kumentMWI",
        "outputId": "3261acdd-faa4-4c1a-fa05-fc098f5c211a"
      },
      "execution_count": 10,
      "outputs": [
        {
          "output_type": "execute_result",
          "data": {
            "text/plain": [
              "(1061, 6)"
            ]
          },
          "metadata": {},
          "execution_count": 10
        }
      ]
    },
    {
      "cell_type": "markdown",
      "source": [
        "Mendefinisikan Model Matrix"
      ],
      "metadata": {
        "id": "MmjWdPPcAJS5"
      }
    },
    {
      "cell_type": "code",
      "source": [
        "def get_prediction(model, X):\n",
        "  (n, p_minus_one)=X.shape\n",
        "  p=p_minus_one+1\n",
        "\n",
        "  new_X =np.ones(shape=(n, p))\n",
        "  new_X[:, 1:] =X\n",
        "\n",
        "  return np.dot(new_X, model)\n",
        "  "
      ],
      "metadata": {
        "id": "KyUuDI-5wdVi"
      },
      "execution_count": 16,
      "outputs": []
    },
    {
      "cell_type": "markdown",
      "source": [
        "Memprediksi Nilai dengan Model"
      ],
      "metadata": {
        "id": "eDtVQFAaABYo"
      }
    },
    {
      "cell_type": "code",
      "source": [
        "test_model = np.array([1, 2, 1])\n",
        "get_prediction(test_model, X_train)"
      ],
      "metadata": {
        "colab": {
          "base_uri": "https://localhost:8080/"
        },
        "id": "MGL5if7-xPvP",
        "outputId": "3873e742-160e-48b4-8b06-c179d9a6224a"
      },
      "execution_count": 31,
      "outputs": [
        {
          "output_type": "execute_result",
          "data": {
            "text/plain": [
              "array([352020.,  92018., 302019., ...,  32014.,  26010.,  22009.])"
            ]
          },
          "metadata": {},
          "execution_count": 31
        }
      ]
    },
    {
      "cell_type": "markdown",
      "source": [
        "**Hasil Linear Regression**"
      ],
      "metadata": {
        "id": "-ecwrH5K_29U"
      }
    },
    {
      "cell_type": "code",
      "source": [
        "predictions_data=pd.DataFrame({'selling_price':data['selling_price'],'km driven':data['km_driven'],'ex showroom price':data['ex_showroom_price'], 'SP Predictions':get_prediction(test_model, X_train)})\n",
        "predictions_data.dropna()"
      ],
      "metadata": {
        "colab": {
          "base_uri": "https://localhost:8080/",
          "height": 455
        },
        "id": "dG7xa93lzUD9",
        "outputId": "2716d245-53b4-47bd-cafb-850fcfa67787"
      },
      "execution_count": 30,
      "outputs": [
        {
          "output_type": "execute_result",
          "data": {
            "text/plain": [
              "                                     selling_price  km driven  \\\n",
              "name                                                            \n",
              "Royal Enfield Classic Gunmetal Grey         150000      12000   \n",
              "Yamaha Fazer FI V 2.0 [2016-2018]            65000      23000   \n",
              "Honda CB Twister                             18000      60000   \n",
              "Honda CB Hornet 160R                         78500      17000   \n",
              "Bajaj Discover 125                           50000      42000   \n",
              "...                                            ...        ...   \n",
              "Activa 3g                                    17000     500000   \n",
              "Honda CB twister                             16000      33000   \n",
              "Bajaj Discover 125                           15000      35000   \n",
              "Honda CB Shine                               12000      53000   \n",
              "Bajaj Pulsar 150                             10000      92233   \n",
              "\n",
              "                                     ex showroom price  SP Predictions  \n",
              "name                                                                    \n",
              "Royal Enfield Classic Gunmetal Grey           148114.0        302019.0  \n",
              "Yamaha Fazer FI V 2.0 [2016-2018]              89643.0        132016.0  \n",
              "Honda CB Twister                               53857.0         38011.0  \n",
              "Honda CB Hornet 160R                           87719.0        159019.0  \n",
              "Bajaj Discover 125                             60122.0        102017.0  \n",
              "...                                                ...             ...  \n",
              "Activa 3g                                      52000.0         36011.0  \n",
              "Honda CB twister                               51000.0         34013.0  \n",
              "Bajaj Discover 125                             57000.0         32014.0  \n",
              "Honda CB Shine                                 58000.0         26010.0  \n",
              "Bajaj Pulsar 150                               75000.0         22009.0  \n",
              "\n",
              "[626 rows x 4 columns]"
            ],
            "text/html": [
              "\n",
              "  <div id=\"df-abdca602-cad5-43dd-93c0-82b8ccea52c9\">\n",
              "    <div class=\"colab-df-container\">\n",
              "      <div>\n",
              "<style scoped>\n",
              "    .dataframe tbody tr th:only-of-type {\n",
              "        vertical-align: middle;\n",
              "    }\n",
              "\n",
              "    .dataframe tbody tr th {\n",
              "        vertical-align: top;\n",
              "    }\n",
              "\n",
              "    .dataframe thead th {\n",
              "        text-align: right;\n",
              "    }\n",
              "</style>\n",
              "<table border=\"1\" class=\"dataframe\">\n",
              "  <thead>\n",
              "    <tr style=\"text-align: right;\">\n",
              "      <th></th>\n",
              "      <th>selling_price</th>\n",
              "      <th>km driven</th>\n",
              "      <th>ex showroom price</th>\n",
              "      <th>SP Predictions</th>\n",
              "    </tr>\n",
              "    <tr>\n",
              "      <th>name</th>\n",
              "      <th></th>\n",
              "      <th></th>\n",
              "      <th></th>\n",
              "      <th></th>\n",
              "    </tr>\n",
              "  </thead>\n",
              "  <tbody>\n",
              "    <tr>\n",
              "      <th>Royal Enfield Classic Gunmetal Grey</th>\n",
              "      <td>150000</td>\n",
              "      <td>12000</td>\n",
              "      <td>148114.0</td>\n",
              "      <td>302019.0</td>\n",
              "    </tr>\n",
              "    <tr>\n",
              "      <th>Yamaha Fazer FI V 2.0 [2016-2018]</th>\n",
              "      <td>65000</td>\n",
              "      <td>23000</td>\n",
              "      <td>89643.0</td>\n",
              "      <td>132016.0</td>\n",
              "    </tr>\n",
              "    <tr>\n",
              "      <th>Honda CB Twister</th>\n",
              "      <td>18000</td>\n",
              "      <td>60000</td>\n",
              "      <td>53857.0</td>\n",
              "      <td>38011.0</td>\n",
              "    </tr>\n",
              "    <tr>\n",
              "      <th>Honda CB Hornet 160R</th>\n",
              "      <td>78500</td>\n",
              "      <td>17000</td>\n",
              "      <td>87719.0</td>\n",
              "      <td>159019.0</td>\n",
              "    </tr>\n",
              "    <tr>\n",
              "      <th>Bajaj Discover 125</th>\n",
              "      <td>50000</td>\n",
              "      <td>42000</td>\n",
              "      <td>60122.0</td>\n",
              "      <td>102017.0</td>\n",
              "    </tr>\n",
              "    <tr>\n",
              "      <th>...</th>\n",
              "      <td>...</td>\n",
              "      <td>...</td>\n",
              "      <td>...</td>\n",
              "      <td>...</td>\n",
              "    </tr>\n",
              "    <tr>\n",
              "      <th>Activa 3g</th>\n",
              "      <td>17000</td>\n",
              "      <td>500000</td>\n",
              "      <td>52000.0</td>\n",
              "      <td>36011.0</td>\n",
              "    </tr>\n",
              "    <tr>\n",
              "      <th>Honda CB twister</th>\n",
              "      <td>16000</td>\n",
              "      <td>33000</td>\n",
              "      <td>51000.0</td>\n",
              "      <td>34013.0</td>\n",
              "    </tr>\n",
              "    <tr>\n",
              "      <th>Bajaj Discover 125</th>\n",
              "      <td>15000</td>\n",
              "      <td>35000</td>\n",
              "      <td>57000.0</td>\n",
              "      <td>32014.0</td>\n",
              "    </tr>\n",
              "    <tr>\n",
              "      <th>Honda CB Shine</th>\n",
              "      <td>12000</td>\n",
              "      <td>53000</td>\n",
              "      <td>58000.0</td>\n",
              "      <td>26010.0</td>\n",
              "    </tr>\n",
              "    <tr>\n",
              "      <th>Bajaj Pulsar 150</th>\n",
              "      <td>10000</td>\n",
              "      <td>92233</td>\n",
              "      <td>75000.0</td>\n",
              "      <td>22009.0</td>\n",
              "    </tr>\n",
              "  </tbody>\n",
              "</table>\n",
              "<p>626 rows × 4 columns</p>\n",
              "</div>\n",
              "      <button class=\"colab-df-convert\" onclick=\"convertToInteractive('df-abdca602-cad5-43dd-93c0-82b8ccea52c9')\"\n",
              "              title=\"Convert this dataframe to an interactive table.\"\n",
              "              style=\"display:none;\">\n",
              "        \n",
              "  <svg xmlns=\"http://www.w3.org/2000/svg\" height=\"24px\"viewBox=\"0 0 24 24\"\n",
              "       width=\"24px\">\n",
              "    <path d=\"M0 0h24v24H0V0z\" fill=\"none\"/>\n",
              "    <path d=\"M18.56 5.44l.94 2.06.94-2.06 2.06-.94-2.06-.94-.94-2.06-.94 2.06-2.06.94zm-11 1L8.5 8.5l.94-2.06 2.06-.94-2.06-.94L8.5 2.5l-.94 2.06-2.06.94zm10 10l.94 2.06.94-2.06 2.06-.94-2.06-.94-.94-2.06-.94 2.06-2.06.94z\"/><path d=\"M17.41 7.96l-1.37-1.37c-.4-.4-.92-.59-1.43-.59-.52 0-1.04.2-1.43.59L10.3 9.45l-7.72 7.72c-.78.78-.78 2.05 0 2.83L4 21.41c.39.39.9.59 1.41.59.51 0 1.02-.2 1.41-.59l7.78-7.78 2.81-2.81c.8-.78.8-2.07 0-2.86zM5.41 20L4 18.59l7.72-7.72 1.47 1.35L5.41 20z\"/>\n",
              "  </svg>\n",
              "      </button>\n",
              "      \n",
              "  <style>\n",
              "    .colab-df-container {\n",
              "      display:flex;\n",
              "      flex-wrap:wrap;\n",
              "      gap: 12px;\n",
              "    }\n",
              "\n",
              "    .colab-df-convert {\n",
              "      background-color: #E8F0FE;\n",
              "      border: none;\n",
              "      border-radius: 50%;\n",
              "      cursor: pointer;\n",
              "      display: none;\n",
              "      fill: #1967D2;\n",
              "      height: 32px;\n",
              "      padding: 0 0 0 0;\n",
              "      width: 32px;\n",
              "    }\n",
              "\n",
              "    .colab-df-convert:hover {\n",
              "      background-color: #E2EBFA;\n",
              "      box-shadow: 0px 1px 2px rgba(60, 64, 67, 0.3), 0px 1px 3px 1px rgba(60, 64, 67, 0.15);\n",
              "      fill: #174EA6;\n",
              "    }\n",
              "\n",
              "    [theme=dark] .colab-df-convert {\n",
              "      background-color: #3B4455;\n",
              "      fill: #D2E3FC;\n",
              "    }\n",
              "\n",
              "    [theme=dark] .colab-df-convert:hover {\n",
              "      background-color: #434B5C;\n",
              "      box-shadow: 0px 1px 3px 1px rgba(0, 0, 0, 0.15);\n",
              "      filter: drop-shadow(0px 1px 2px rgba(0, 0, 0, 0.3));\n",
              "      fill: #FFFFFF;\n",
              "    }\n",
              "  </style>\n",
              "\n",
              "      <script>\n",
              "        const buttonEl =\n",
              "          document.querySelector('#df-abdca602-cad5-43dd-93c0-82b8ccea52c9 button.colab-df-convert');\n",
              "        buttonEl.style.display =\n",
              "          google.colab.kernel.accessAllowed ? 'block' : 'none';\n",
              "\n",
              "        async function convertToInteractive(key) {\n",
              "          const element = document.querySelector('#df-abdca602-cad5-43dd-93c0-82b8ccea52c9');\n",
              "          const dataTable =\n",
              "            await google.colab.kernel.invokeFunction('convertToInteractive',\n",
              "                                                     [key], {});\n",
              "          if (!dataTable) return;\n",
              "\n",
              "          const docLinkHtml = 'Like what you see? Visit the ' +\n",
              "            '<a target=\"_blank\" href=https://colab.research.google.com/notebooks/data_table.ipynb>data table notebook</a>'\n",
              "            + ' to learn more about interactive tables.';\n",
              "          element.innerHTML = '';\n",
              "          dataTable['output_type'] = 'display_data';\n",
              "          await google.colab.output.renderOutput(dataTable, element);\n",
              "          const docLink = document.createElement('div');\n",
              "          docLink.innerHTML = docLinkHtml;\n",
              "          element.appendChild(docLink);\n",
              "        }\n",
              "      </script>\n",
              "    </div>\n",
              "  </div>\n",
              "  "
            ]
          },
          "metadata": {},
          "execution_count": 30
        }
      ]
    },
    {
      "cell_type": "markdown",
      "source": [
        "**Menghitung Nilai MSE**"
      ],
      "metadata": {
        "id": "k35aB3m0Ac1-"
      }
    },
    {
      "cell_type": "code",
      "source": [
        "# Given values\n",
        "Y_true = [17000,16000,15000,12000,10000]  # Y_true = Y (original values)\n",
        "  \n",
        "# Calculated values\n",
        "Y_pred = [36011,34013,32014,26010,22009]  # Y_pred = Y'\n",
        "  \n",
        "# Mean Squared Error\n",
        "MSE = np.square(np.subtract(Y_true,Y_pred)).mean()\n",
        "MSE"
      ],
      "metadata": {
        "colab": {
          "base_uri": "https://localhost:8080/"
        },
        "id": "CKJN3kw81nI6",
        "outputId": "78d007a8-53a3-4e5c-9eed-4b77bb42e6c4"
      },
      "execution_count": 32,
      "outputs": [
        {
          "output_type": "execute_result",
          "data": {
            "text/plain": [
              "263171733.4"
            ]
          },
          "metadata": {},
          "execution_count": 32
        }
      ]
    }
  ]
}