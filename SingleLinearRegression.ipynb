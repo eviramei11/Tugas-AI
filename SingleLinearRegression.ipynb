{
  "nbformat": 4,
  "nbformat_minor": 0,
  "metadata": {
    "colab": {
      "provenance": []
    },
    "kernelspec": {
      "name": "python3",
      "display_name": "Python 3"
    },
    "language_info": {
      "name": "python"
    }
  },
  "cells": [
    {
      "cell_type": "markdown",
      "source": [
        "**Tugas AI Pra UTS**"
      ],
      "metadata": {
        "id": "eg2e-lsB_YfE"
      }
    },
    {
      "cell_type": "markdown",
      "source": [
        "**Implementasi Single Linear Regression**"
      ],
      "metadata": {
        "id": "jJnAeyv6_kvL"
      }
    },
    {
      "cell_type": "markdown",
      "source": [
        "**Evira Meidwitami\n",
        "19/443572/TK/48768**"
      ],
      "metadata": {
        "id": "0Yenb-0X8Wap"
      }
    },
    {
      "cell_type": "markdown",
      "source": [
        "**Import Library**"
      ],
      "metadata": {
        "id": "juVIx2fa8lX3"
      }
    },
    {
      "cell_type": "markdown",
      "source": [
        "Terdapat 3 buah library yang digunakan yaitu panda untuk memanipulasi data dan membaca data dari berbagai format, numpy untuk bekerja dengan array dan matplotlib untuk melakukan visualisasi data."
      ],
      "metadata": {
        "id": "xnG2HspMOC-D"
      }
    },
    {
      "cell_type": "code",
      "execution_count": 50,
      "metadata": {
        "id": "XkcQHVI0ZyQ4"
      },
      "outputs": [],
      "source": [
        "import pandas as pd\n",
        "import numpy as np\n",
        "import matplotlib.pyplot as plt"
      ]
    },
    {
      "cell_type": "markdown",
      "source": [
        "**Upload File Dataset**"
      ],
      "metadata": {
        "id": "ndsTcZP68qu3"
      }
    },
    {
      "cell_type": "markdown",
      "source": [
        "Import data dari local drive"
      ],
      "metadata": {
        "id": "8ItWukTVSW3c"
      }
    },
    {
      "cell_type": "code",
      "source": [
        "from google.colab import files\n",
        "uploaded = files.upload()"
      ],
      "metadata": {
        "colab": {
          "base_uri": "https://localhost:8080/",
          "height": 75
        },
        "id": "fEn6Y-HUZ0uz",
        "outputId": "68ed3b50-c747-44cc-b910-d41ef2db1e94"
      },
      "execution_count": 51,
      "outputs": [
        {
          "output_type": "display_data",
          "data": {
            "text/plain": [
              "<IPython.core.display.HTML object>"
            ],
            "text/html": [
              "\n",
              "     <input type=\"file\" id=\"files-2f8d26e9-8e6e-424d-aef3-9846084c8622\" name=\"files[]\" multiple disabled\n",
              "        style=\"border:none\" />\n",
              "     <output id=\"result-2f8d26e9-8e6e-424d-aef3-9846084c8622\">\n",
              "      Upload widget is only available when the cell has been executed in the\n",
              "      current browser session. Please rerun this cell to enable.\n",
              "      </output>\n",
              "      <script>// Copyright 2017 Google LLC\n",
              "//\n",
              "// Licensed under the Apache License, Version 2.0 (the \"License\");\n",
              "// you may not use this file except in compliance with the License.\n",
              "// You may obtain a copy of the License at\n",
              "//\n",
              "//      http://www.apache.org/licenses/LICENSE-2.0\n",
              "//\n",
              "// Unless required by applicable law or agreed to in writing, software\n",
              "// distributed under the License is distributed on an \"AS IS\" BASIS,\n",
              "// WITHOUT WARRANTIES OR CONDITIONS OF ANY KIND, either express or implied.\n",
              "// See the License for the specific language governing permissions and\n",
              "// limitations under the License.\n",
              "\n",
              "/**\n",
              " * @fileoverview Helpers for google.colab Python module.\n",
              " */\n",
              "(function(scope) {\n",
              "function span(text, styleAttributes = {}) {\n",
              "  const element = document.createElement('span');\n",
              "  element.textContent = text;\n",
              "  for (const key of Object.keys(styleAttributes)) {\n",
              "    element.style[key] = styleAttributes[key];\n",
              "  }\n",
              "  return element;\n",
              "}\n",
              "\n",
              "// Max number of bytes which will be uploaded at a time.\n",
              "const MAX_PAYLOAD_SIZE = 100 * 1024;\n",
              "\n",
              "function _uploadFiles(inputId, outputId) {\n",
              "  const steps = uploadFilesStep(inputId, outputId);\n",
              "  const outputElement = document.getElementById(outputId);\n",
              "  // Cache steps on the outputElement to make it available for the next call\n",
              "  // to uploadFilesContinue from Python.\n",
              "  outputElement.steps = steps;\n",
              "\n",
              "  return _uploadFilesContinue(outputId);\n",
              "}\n",
              "\n",
              "// This is roughly an async generator (not supported in the browser yet),\n",
              "// where there are multiple asynchronous steps and the Python side is going\n",
              "// to poll for completion of each step.\n",
              "// This uses a Promise to block the python side on completion of each step,\n",
              "// then passes the result of the previous step as the input to the next step.\n",
              "function _uploadFilesContinue(outputId) {\n",
              "  const outputElement = document.getElementById(outputId);\n",
              "  const steps = outputElement.steps;\n",
              "\n",
              "  const next = steps.next(outputElement.lastPromiseValue);\n",
              "  return Promise.resolve(next.value.promise).then((value) => {\n",
              "    // Cache the last promise value to make it available to the next\n",
              "    // step of the generator.\n",
              "    outputElement.lastPromiseValue = value;\n",
              "    return next.value.response;\n",
              "  });\n",
              "}\n",
              "\n",
              "/**\n",
              " * Generator function which is called between each async step of the upload\n",
              " * process.\n",
              " * @param {string} inputId Element ID of the input file picker element.\n",
              " * @param {string} outputId Element ID of the output display.\n",
              " * @return {!Iterable<!Object>} Iterable of next steps.\n",
              " */\n",
              "function* uploadFilesStep(inputId, outputId) {\n",
              "  const inputElement = document.getElementById(inputId);\n",
              "  inputElement.disabled = false;\n",
              "\n",
              "  const outputElement = document.getElementById(outputId);\n",
              "  outputElement.innerHTML = '';\n",
              "\n",
              "  const pickedPromise = new Promise((resolve) => {\n",
              "    inputElement.addEventListener('change', (e) => {\n",
              "      resolve(e.target.files);\n",
              "    });\n",
              "  });\n",
              "\n",
              "  const cancel = document.createElement('button');\n",
              "  inputElement.parentElement.appendChild(cancel);\n",
              "  cancel.textContent = 'Cancel upload';\n",
              "  const cancelPromise = new Promise((resolve) => {\n",
              "    cancel.onclick = () => {\n",
              "      resolve(null);\n",
              "    };\n",
              "  });\n",
              "\n",
              "  // Wait for the user to pick the files.\n",
              "  const files = yield {\n",
              "    promise: Promise.race([pickedPromise, cancelPromise]),\n",
              "    response: {\n",
              "      action: 'starting',\n",
              "    }\n",
              "  };\n",
              "\n",
              "  cancel.remove();\n",
              "\n",
              "  // Disable the input element since further picks are not allowed.\n",
              "  inputElement.disabled = true;\n",
              "\n",
              "  if (!files) {\n",
              "    return {\n",
              "      response: {\n",
              "        action: 'complete',\n",
              "      }\n",
              "    };\n",
              "  }\n",
              "\n",
              "  for (const file of files) {\n",
              "    const li = document.createElement('li');\n",
              "    li.append(span(file.name, {fontWeight: 'bold'}));\n",
              "    li.append(span(\n",
              "        `(${file.type || 'n/a'}) - ${file.size} bytes, ` +\n",
              "        `last modified: ${\n",
              "            file.lastModifiedDate ? file.lastModifiedDate.toLocaleDateString() :\n",
              "                                    'n/a'} - `));\n",
              "    const percent = span('0% done');\n",
              "    li.appendChild(percent);\n",
              "\n",
              "    outputElement.appendChild(li);\n",
              "\n",
              "    const fileDataPromise = new Promise((resolve) => {\n",
              "      const reader = new FileReader();\n",
              "      reader.onload = (e) => {\n",
              "        resolve(e.target.result);\n",
              "      };\n",
              "      reader.readAsArrayBuffer(file);\n",
              "    });\n",
              "    // Wait for the data to be ready.\n",
              "    let fileData = yield {\n",
              "      promise: fileDataPromise,\n",
              "      response: {\n",
              "        action: 'continue',\n",
              "      }\n",
              "    };\n",
              "\n",
              "    // Use a chunked sending to avoid message size limits. See b/62115660.\n",
              "    let position = 0;\n",
              "    do {\n",
              "      const length = Math.min(fileData.byteLength - position, MAX_PAYLOAD_SIZE);\n",
              "      const chunk = new Uint8Array(fileData, position, length);\n",
              "      position += length;\n",
              "\n",
              "      const base64 = btoa(String.fromCharCode.apply(null, chunk));\n",
              "      yield {\n",
              "        response: {\n",
              "          action: 'append',\n",
              "          file: file.name,\n",
              "          data: base64,\n",
              "        },\n",
              "      };\n",
              "\n",
              "      let percentDone = fileData.byteLength === 0 ?\n",
              "          100 :\n",
              "          Math.round((position / fileData.byteLength) * 100);\n",
              "      percent.textContent = `${percentDone}% done`;\n",
              "\n",
              "    } while (position < fileData.byteLength);\n",
              "  }\n",
              "\n",
              "  // All done.\n",
              "  yield {\n",
              "    response: {\n",
              "      action: 'complete',\n",
              "    }\n",
              "  };\n",
              "}\n",
              "\n",
              "scope.google = scope.google || {};\n",
              "scope.google.colab = scope.google.colab || {};\n",
              "scope.google.colab._files = {\n",
              "  _uploadFiles,\n",
              "  _uploadFilesContinue,\n",
              "};\n",
              "})(self);\n",
              "</script> "
            ]
          },
          "metadata": {}
        },
        {
          "output_type": "stream",
          "name": "stdout",
          "text": [
            "Saving BIKE DETAILS.csv to BIKE DETAILS (1).csv\n"
          ]
        }
      ]
    },
    {
      "cell_type": "markdown",
      "source": [
        "**Membaca dan Menampilkan Data**"
      ],
      "metadata": {
        "id": "fCLtkT5y8w65"
      }
    },
    {
      "cell_type": "markdown",
      "source": [
        "Menggunakan salah satu functions dari library panda yaitu pd.read_csv()"
      ],
      "metadata": {
        "id": "_fmriNXkSqqT"
      }
    },
    {
      "cell_type": "code",
      "source": [
        "data=pd.read_csv('BIKE DETAILS.csv',index_col=0)\n",
        "data.dropna()"
      ],
      "metadata": {
        "colab": {
          "base_uri": "https://localhost:8080/",
          "height": 655
        },
        "id": "URJYjaEqZ2Ub",
        "outputId": "2dbcdca8-0a8a-4825-8974-1e0887ec8c1d"
      },
      "execution_count": null,
      "outputs": [
        {
          "output_type": "execute_result",
          "data": {
            "text/plain": [
              "                                     selling_price  year seller_type  \\\n",
              "name                                                                   \n",
              "Royal Enfield Classic Gunmetal Grey         150000  2018  Individual   \n",
              "Yamaha Fazer FI V 2.0 [2016-2018]            65000  2015  Individual   \n",
              "Honda CB Twister                             18000  2010  Individual   \n",
              "Honda CB Hornet 160R                         78500  2018  Individual   \n",
              "Bajaj Discover 125                           50000  2016  Individual   \n",
              "...                                            ...   ...         ...   \n",
              "Activa 3g                                    17000  2010  Individual   \n",
              "Honda CB twister                             16000  2012  Individual   \n",
              "Bajaj Discover 125                           15000  2013  Individual   \n",
              "Honda CB Shine                               12000  2009  Individual   \n",
              "Bajaj Pulsar 150                             10000  2008  Individual   \n",
              "\n",
              "                                         owner  km_driven  ex_showroom_price  \n",
              "name                                                                          \n",
              "Royal Enfield Classic Gunmetal Grey  1st owner      12000           148114.0  \n",
              "Yamaha Fazer FI V 2.0 [2016-2018]    1st owner      23000            89643.0  \n",
              "Honda CB Twister                     1st owner      60000            53857.0  \n",
              "Honda CB Hornet 160R                 1st owner      17000            87719.0  \n",
              "Bajaj Discover 125                   1st owner      42000            60122.0  \n",
              "...                                        ...        ...                ...  \n",
              "Activa 3g                            1st owner     500000            52000.0  \n",
              "Honda CB twister                     1st owner      33000            51000.0  \n",
              "Bajaj Discover 125                   2nd owner      35000            57000.0  \n",
              "Honda CB Shine                       1st owner      53000            58000.0  \n",
              "Bajaj Pulsar 150                     1st owner      92233            75000.0  \n",
              "\n",
              "[626 rows x 6 columns]"
            ],
            "text/html": [
              "\n",
              "  <div id=\"df-d56629c6-5a99-4f63-85f7-1f9d88b8f084\">\n",
              "    <div class=\"colab-df-container\">\n",
              "      <div>\n",
              "<style scoped>\n",
              "    .dataframe tbody tr th:only-of-type {\n",
              "        vertical-align: middle;\n",
              "    }\n",
              "\n",
              "    .dataframe tbody tr th {\n",
              "        vertical-align: top;\n",
              "    }\n",
              "\n",
              "    .dataframe thead th {\n",
              "        text-align: right;\n",
              "    }\n",
              "</style>\n",
              "<table border=\"1\" class=\"dataframe\">\n",
              "  <thead>\n",
              "    <tr style=\"text-align: right;\">\n",
              "      <th></th>\n",
              "      <th>selling_price</th>\n",
              "      <th>year</th>\n",
              "      <th>seller_type</th>\n",
              "      <th>owner</th>\n",
              "      <th>km_driven</th>\n",
              "      <th>ex_showroom_price</th>\n",
              "    </tr>\n",
              "    <tr>\n",
              "      <th>name</th>\n",
              "      <th></th>\n",
              "      <th></th>\n",
              "      <th></th>\n",
              "      <th></th>\n",
              "      <th></th>\n",
              "      <th></th>\n",
              "    </tr>\n",
              "  </thead>\n",
              "  <tbody>\n",
              "    <tr>\n",
              "      <th>Royal Enfield Classic Gunmetal Grey</th>\n",
              "      <td>150000</td>\n",
              "      <td>2018</td>\n",
              "      <td>Individual</td>\n",
              "      <td>1st owner</td>\n",
              "      <td>12000</td>\n",
              "      <td>148114.0</td>\n",
              "    </tr>\n",
              "    <tr>\n",
              "      <th>Yamaha Fazer FI V 2.0 [2016-2018]</th>\n",
              "      <td>65000</td>\n",
              "      <td>2015</td>\n",
              "      <td>Individual</td>\n",
              "      <td>1st owner</td>\n",
              "      <td>23000</td>\n",
              "      <td>89643.0</td>\n",
              "    </tr>\n",
              "    <tr>\n",
              "      <th>Honda CB Twister</th>\n",
              "      <td>18000</td>\n",
              "      <td>2010</td>\n",
              "      <td>Individual</td>\n",
              "      <td>1st owner</td>\n",
              "      <td>60000</td>\n",
              "      <td>53857.0</td>\n",
              "    </tr>\n",
              "    <tr>\n",
              "      <th>Honda CB Hornet 160R</th>\n",
              "      <td>78500</td>\n",
              "      <td>2018</td>\n",
              "      <td>Individual</td>\n",
              "      <td>1st owner</td>\n",
              "      <td>17000</td>\n",
              "      <td>87719.0</td>\n",
              "    </tr>\n",
              "    <tr>\n",
              "      <th>Bajaj Discover 125</th>\n",
              "      <td>50000</td>\n",
              "      <td>2016</td>\n",
              "      <td>Individual</td>\n",
              "      <td>1st owner</td>\n",
              "      <td>42000</td>\n",
              "      <td>60122.0</td>\n",
              "    </tr>\n",
              "    <tr>\n",
              "      <th>...</th>\n",
              "      <td>...</td>\n",
              "      <td>...</td>\n",
              "      <td>...</td>\n",
              "      <td>...</td>\n",
              "      <td>...</td>\n",
              "      <td>...</td>\n",
              "    </tr>\n",
              "    <tr>\n",
              "      <th>Activa 3g</th>\n",
              "      <td>17000</td>\n",
              "      <td>2010</td>\n",
              "      <td>Individual</td>\n",
              "      <td>1st owner</td>\n",
              "      <td>500000</td>\n",
              "      <td>52000.0</td>\n",
              "    </tr>\n",
              "    <tr>\n",
              "      <th>Honda CB twister</th>\n",
              "      <td>16000</td>\n",
              "      <td>2012</td>\n",
              "      <td>Individual</td>\n",
              "      <td>1st owner</td>\n",
              "      <td>33000</td>\n",
              "      <td>51000.0</td>\n",
              "    </tr>\n",
              "    <tr>\n",
              "      <th>Bajaj Discover 125</th>\n",
              "      <td>15000</td>\n",
              "      <td>2013</td>\n",
              "      <td>Individual</td>\n",
              "      <td>2nd owner</td>\n",
              "      <td>35000</td>\n",
              "      <td>57000.0</td>\n",
              "    </tr>\n",
              "    <tr>\n",
              "      <th>Honda CB Shine</th>\n",
              "      <td>12000</td>\n",
              "      <td>2009</td>\n",
              "      <td>Individual</td>\n",
              "      <td>1st owner</td>\n",
              "      <td>53000</td>\n",
              "      <td>58000.0</td>\n",
              "    </tr>\n",
              "    <tr>\n",
              "      <th>Bajaj Pulsar 150</th>\n",
              "      <td>10000</td>\n",
              "      <td>2008</td>\n",
              "      <td>Individual</td>\n",
              "      <td>1st owner</td>\n",
              "      <td>92233</td>\n",
              "      <td>75000.0</td>\n",
              "    </tr>\n",
              "  </tbody>\n",
              "</table>\n",
              "<p>626 rows × 6 columns</p>\n",
              "</div>\n",
              "      <button class=\"colab-df-convert\" onclick=\"convertToInteractive('df-d56629c6-5a99-4f63-85f7-1f9d88b8f084')\"\n",
              "              title=\"Convert this dataframe to an interactive table.\"\n",
              "              style=\"display:none;\">\n",
              "        \n",
              "  <svg xmlns=\"http://www.w3.org/2000/svg\" height=\"24px\"viewBox=\"0 0 24 24\"\n",
              "       width=\"24px\">\n",
              "    <path d=\"M0 0h24v24H0V0z\" fill=\"none\"/>\n",
              "    <path d=\"M18.56 5.44l.94 2.06.94-2.06 2.06-.94-2.06-.94-.94-2.06-.94 2.06-2.06.94zm-11 1L8.5 8.5l.94-2.06 2.06-.94-2.06-.94L8.5 2.5l-.94 2.06-2.06.94zm10 10l.94 2.06.94-2.06 2.06-.94-2.06-.94-.94-2.06-.94 2.06-2.06.94z\"/><path d=\"M17.41 7.96l-1.37-1.37c-.4-.4-.92-.59-1.43-.59-.52 0-1.04.2-1.43.59L10.3 9.45l-7.72 7.72c-.78.78-.78 2.05 0 2.83L4 21.41c.39.39.9.59 1.41.59.51 0 1.02-.2 1.41-.59l7.78-7.78 2.81-2.81c.8-.78.8-2.07 0-2.86zM5.41 20L4 18.59l7.72-7.72 1.47 1.35L5.41 20z\"/>\n",
              "  </svg>\n",
              "      </button>\n",
              "      \n",
              "  <style>\n",
              "    .colab-df-container {\n",
              "      display:flex;\n",
              "      flex-wrap:wrap;\n",
              "      gap: 12px;\n",
              "    }\n",
              "\n",
              "    .colab-df-convert {\n",
              "      background-color: #E8F0FE;\n",
              "      border: none;\n",
              "      border-radius: 50%;\n",
              "      cursor: pointer;\n",
              "      display: none;\n",
              "      fill: #1967D2;\n",
              "      height: 32px;\n",
              "      padding: 0 0 0 0;\n",
              "      width: 32px;\n",
              "    }\n",
              "\n",
              "    .colab-df-convert:hover {\n",
              "      background-color: #E2EBFA;\n",
              "      box-shadow: 0px 1px 2px rgba(60, 64, 67, 0.3), 0px 1px 3px 1px rgba(60, 64, 67, 0.15);\n",
              "      fill: #174EA6;\n",
              "    }\n",
              "\n",
              "    [theme=dark] .colab-df-convert {\n",
              "      background-color: #3B4455;\n",
              "      fill: #D2E3FC;\n",
              "    }\n",
              "\n",
              "    [theme=dark] .colab-df-convert:hover {\n",
              "      background-color: #434B5C;\n",
              "      box-shadow: 0px 1px 3px 1px rgba(0, 0, 0, 0.15);\n",
              "      filter: drop-shadow(0px 1px 2px rgba(0, 0, 0, 0.3));\n",
              "      fill: #FFFFFF;\n",
              "    }\n",
              "  </style>\n",
              "\n",
              "      <script>\n",
              "        const buttonEl =\n",
              "          document.querySelector('#df-d56629c6-5a99-4f63-85f7-1f9d88b8f084 button.colab-df-convert');\n",
              "        buttonEl.style.display =\n",
              "          google.colab.kernel.accessAllowed ? 'block' : 'none';\n",
              "\n",
              "        async function convertToInteractive(key) {\n",
              "          const element = document.querySelector('#df-d56629c6-5a99-4f63-85f7-1f9d88b8f084');\n",
              "          const dataTable =\n",
              "            await google.colab.kernel.invokeFunction('convertToInteractive',\n",
              "                                                     [key], {});\n",
              "          if (!dataTable) return;\n",
              "\n",
              "          const docLinkHtml = 'Like what you see? Visit the ' +\n",
              "            '<a target=\"_blank\" href=https://colab.research.google.com/notebooks/data_table.ipynb>data table notebook</a>'\n",
              "            + ' to learn more about interactive tables.';\n",
              "          element.innerHTML = '';\n",
              "          dataTable['output_type'] = 'display_data';\n",
              "          await google.colab.output.renderOutput(dataTable, element);\n",
              "          const docLink = document.createElement('div');\n",
              "          docLink.innerHTML = docLinkHtml;\n",
              "          element.appendChild(docLink);\n",
              "        }\n",
              "      </script>\n",
              "    </div>\n",
              "  </div>\n",
              "  "
            ]
          },
          "metadata": {},
          "execution_count": 39
        }
      ]
    },
    {
      "cell_type": "markdown",
      "source": [
        "**Mencari Variabel Bebas**"
      ],
      "metadata": {
        "id": "XV1Y04uNV4qm"
      }
    },
    {
      "cell_type": "markdown",
      "source": [
        "\"-\" artinya semakin besar variabel bebas maka variabel dependent nya akan semakin kecil"
      ],
      "metadata": {
        "id": "jvJeXvtsXIKL"
      }
    },
    {
      "cell_type": "markdown",
      "source": [
        "\"+\" artinya semakin besar variabel bebas maka variabel dependent nya akan semakin besar"
      ],
      "metadata": {
        "id": "hSxk5ojNWLmA"
      }
    },
    {
      "cell_type": "markdown",
      "source": [
        "Untuk mencari variabel bebas/varibel penyebab adalah dengan melihat nilai mutlak dari korelasi variabel dengan variabel dependent. Semakin mendekati 1 maka semakin besar hubungan antar varibelnya. Variabel inilah yang akan digunakan sebagai variabel bebas."
      ],
      "metadata": {
        "id": "xfrZs5fJWVEa"
      }
    },
    {
      "cell_type": "code",
      "source": [
        "data.corr()['selling_price']"
      ],
      "metadata": {
        "colab": {
          "base_uri": "https://localhost:8080/"
        },
        "id": "8dU0mh8hV3u6",
        "outputId": "bed5f2eb-20b2-44ca-ace9-cc46ec54cc6d"
      },
      "execution_count": 55,
      "outputs": [
        {
          "output_type": "execute_result",
          "data": {
            "text/plain": [
              "selling_price        1.000000\n",
              "year                 0.402188\n",
              "km_driven           -0.212937\n",
              "ex_showroom_price    0.918583\n",
              "Name: selling_price, dtype: float64"
            ]
          },
          "metadata": {},
          "execution_count": 55
        }
      ]
    },
    {
      "cell_type": "markdown",
      "source": [
        "**Pengaruh Ex Showroom Price Terhadap Selling Price**"
      ],
      "metadata": {
        "id": "QuFnhyt283X-"
      }
    },
    {
      "cell_type": "code",
      "source": [
        "x=data.ex_showroom_price\n",
        "y=data.selling_price\n",
        "plt.scatter(x,y)"
      ],
      "metadata": {
        "colab": {
          "base_uri": "https://localhost:8080/",
          "height": 296
        },
        "id": "vHcGy4RhHm97",
        "outputId": "71841582-ba64-4902-b59a-b134ee01f8e2"
      },
      "execution_count": null,
      "outputs": [
        {
          "output_type": "execute_result",
          "data": {
            "text/plain": [
              "<matplotlib.collections.PathCollection at 0x7fbe4d7bfd50>"
            ]
          },
          "metadata": {},
          "execution_count": 29
        },
        {
          "output_type": "display_data",
          "data": {
            "text/plain": [
              "<Figure size 432x288 with 1 Axes>"
            ],
            "image/png": "[encoded data removed]"
          },
          "metadata": {
            "needs_background": "light"
          }
        }
      ]
    },
    {
      "cell_type": "markdown",
      "source": [
        "**Implementasi Single Linear Regression**"
      ],
      "metadata": {
        "id": "V8azvKUe-Kg7"
      }
    },
    {
      "cell_type": "markdown",
      "source": [
        "Mencari Mean X"
      ],
      "metadata": {
        "id": "o8AgSuHj-XXP"
      }
    },
    {
      "cell_type": "code",
      "source": [
        "xbar=x.mean()\n",
        "xbar"
      ],
      "metadata": {
        "colab": {
          "base_uri": "https://localhost:8080/"
        },
        "id": "HHmeXsacMTx3",
        "outputId": "19abe50d-3bd0-4218-8b5a-4f0f4720359a"
      },
      "execution_count": null,
      "outputs": [
        {
          "output_type": "execute_result",
          "data": {
            "text/plain": [
              "87958.71405750798"
            ]
          },
          "metadata": {},
          "execution_count": 31
        }
      ]
    },
    {
      "cell_type": "markdown",
      "source": [
        "Menghitung SSxx"
      ],
      "metadata": {
        "id": "Jb4rHD2d-pFn"
      }
    },
    {
      "cell_type": "markdown",
      "source": [
        "Square of sum dari x kuadrat"
      ],
      "metadata": {
        "id": "Tx284TIeRCQs"
      }
    },
    {
      "cell_type": "code",
      "source": [
        "data['diffx']=xbar-x\n",
        "data['diffx_squared']=data.diffx**2\n",
        "SSxx=data.diffx_squared.sum()"
      ],
      "metadata": {
        "id": "UrYbOzKPMWnz"
      },
      "execution_count": null,
      "outputs": []
    },
    {
      "cell_type": "markdown",
      "source": [
        "Menghitung SSxy"
      ],
      "metadata": {
        "id": "0_aRRb_-MZfM"
      }
    },
    {
      "cell_type": "markdown",
      "source": [
        "Square of sum dari x dan y"
      ],
      "metadata": {
        "id": "Fs7Qnp24RMdW"
      }
    },
    {
      "cell_type": "code",
      "source": [
        "ybar=y.mean()\n",
        "data['diffy']=ybar-y\n",
        "SSxy=(data.diffx*data.diffy).sum()"
      ],
      "metadata": {
        "id": "gP59XlgzMa8j"
      },
      "execution_count": null,
      "outputs": []
    },
    {
      "cell_type": "markdown",
      "source": [
        "Slope"
      ],
      "metadata": {
        "id": "9g892QEyMdcn"
      }
    },
    {
      "cell_type": "code",
      "source": [
        "m=SSxy/SSxx\n",
        "m"
      ],
      "metadata": {
        "colab": {
          "base_uri": "https://localhost:8080/"
        },
        "id": "DmRfsPmkMff5",
        "outputId": "4abb3f3a-f878-4453-fc29-70245df29c41"
      },
      "execution_count": null,
      "outputs": [
        {
          "output_type": "execute_result",
          "data": {
            "text/plain": [
              "0.7100588453119139"
            ]
          },
          "metadata": {},
          "execution_count": 34
        }
      ]
    },
    {
      "cell_type": "markdown",
      "source": [
        "Menghitung Titik Potong Dari Garis Regresi"
      ],
      "metadata": {
        "id": "mjAkKNE-MhzC"
      }
    },
    {
      "cell_type": "code",
      "source": [
        "b=ybar-m*xbar\n",
        "b"
      ],
      "metadata": {
        "colab": {
          "base_uri": "https://localhost:8080/"
        },
        "id": "TsoxyB7yMk28",
        "outputId": "94f713ac-92af-4b47-a53d-b2054268a15a"
      },
      "execution_count": null,
      "outputs": [
        {
          "output_type": "execute_result",
          "data": {
            "text/plain": [
              "-2817.7111951568513"
            ]
          },
          "metadata": {},
          "execution_count": 35
        }
      ]
    },
    {
      "cell_type": "markdown",
      "source": [
        "Memprediksi Nilai dengan Model"
      ],
      "metadata": {
        "id": "YT-HP0OfMpMW"
      }
    },
    {
      "cell_type": "code",
      "source": [
        "def predict(value):\n",
        "  predict=m*value+b\n",
        "  return predict"
      ],
      "metadata": {
        "id": "e1kjQb9-Mq9P"
      },
      "execution_count": null,
      "outputs": []
    },
    {
      "cell_type": "code",
      "source": [
        "predict(60122)"
      ],
      "metadata": {
        "colab": {
          "base_uri": "https://localhost:8080/"
        },
        "id": "YNej9PmjMtrH",
        "outputId": "874667c6-7a7c-450c-fc60-9a9682d6fbb6"
      },
      "execution_count": null,
      "outputs": [
        {
          "output_type": "execute_result",
          "data": {
            "text/plain": [
              "39872.44670268604"
            ]
          },
          "metadata": {},
          "execution_count": 45
        }
      ]
    },
    {
      "cell_type": "markdown",
      "source": [
        "**Plotting Hasil Linear Regression**"
      ],
      "metadata": {
        "id": "W6gGc6pA-x17"
      }
    },
    {
      "cell_type": "code",
      "source": [
        "plt.scatter(x,y)\n",
        "plt.plot(x,m*x+b,'r')"
      ],
      "metadata": {
        "colab": {
          "base_uri": "https://localhost:8080/",
          "height": 296
        },
        "id": "C5o0B8TwM2Jn",
        "outputId": "b184d1ec-427a-4d92-b707-440956c4cd33"
      },
      "execution_count": null,
      "outputs": [
        {
          "output_type": "execute_result",
          "data": {
            "text/plain": [
              "[<matplotlib.lines.Line2D at 0x7fbe4daab0d0>]"
            ]
          },
          "metadata": {},
          "execution_count": 38
        },
        {
          "output_type": "display_data",
          "data": {
            "text/plain": [
              "<Figure size 432x288 with 1 Axes>"
            ],
            "image/png": "[encoded data removed]"
          },
          "metadata": {
            "needs_background": "light"
          }
        }
      ]
    },
    {
      "cell_type": "markdown",
      "source": [
        "**Menghitung Nilai MSE**"
      ],
      "metadata": {
        "id": "w8BwM2U_RW08"
      }
    },
    {
      "cell_type": "markdown",
      "source": [
        "MSE adalah Mean Square Error yang merupakan perhitungan estimasi dari rata-rata error atau rugi-rugi regresi"
      ],
      "metadata": {
        "id": "qAn6z6FhQ97T"
      }
    },
    {
      "cell_type": "code",
      "source": [
        "# Given values\n",
        "Y_true = [150000,65000,18000,78500,50000]  # Y_true = Y (original values)\n",
        "  \n",
        "# Calculated values\n",
        "Y_pred = [102351.9,60834.09,35423.9,59467.9,39872.4]  # Y_pred = Y'\n",
        "  \n",
        "# Mean Squared Error\n",
        "MSE = np.square(np.subtract(Y_true,Y_pred)).mean()\n",
        "MSE"
      ],
      "metadata": {
        "colab": {
          "base_uri": "https://localhost:8080/"
        },
        "id": "6sopx7isRX77",
        "outputId": "ed8a44a7-d621-4c1f-c96d-8c2d1603417c"
      },
      "execution_count": null,
      "outputs": [
        {
          "output_type": "execute_result",
          "data": {
            "text/plain": [
              "611215528.62362"
            ]
          },
          "metadata": {},
          "execution_count": 47
        }
      ]
    }
  ]
}